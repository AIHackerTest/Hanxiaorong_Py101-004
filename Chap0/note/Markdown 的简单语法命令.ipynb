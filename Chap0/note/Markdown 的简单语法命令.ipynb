{
 "cells": [
  {
   "cell_type": "code",
   "execution_count": 1,
   "metadata": {
    "collapsed": true
   },
   "outputs": [],
   "source": [
    "# 一级标题\n",
    "\n",
    "\n",
    "## 二级标题\n",
    "\n",
    "\n",
    "### 三级标题\n",
    "\n",
    "#### [Markdown 语法说明简体中文版](http://wowubuntu.com/markdown/index.html)"
   ]
  },
  {
   "cell_type": "code",
   "execution_count": 2,
   "metadata": {},
   "outputs": [
    {
     "ename": "SyntaxError",
     "evalue": "invalid syntax (<ipython-input-2-5a1570707018>, line 1)",
     "output_type": "error",
     "traceback": [
      "\u001b[1;36m  File \u001b[1;32m\"<ipython-input-2-5a1570707018>\"\u001b[1;36m, line \u001b[1;32m1\u001b[0m\n\u001b[1;33m    > 这里是引用的东西\u001b[0m\n\u001b[1;37m    ^\u001b[0m\n\u001b[1;31mSyntaxError\u001b[0m\u001b[1;31m:\u001b[0m invalid syntax\n"
     ]
    }
   ],
   "source": [
    "> 这里是引用的东西\n",
    "\n",
    "    [markdown 几个常见的语法链接](http://www.jianshu.com/p/1e402922ee32/)"
   ]
  },
  {
   "attachments": {},
   "cell_type": "markdown",
   "metadata": {},
   "source": [
    "#### 插入一张图片看看\n",
    "\n",
    "  ![jupyter%20%E5%BF%AB%E6%8D%B7%E9%94%AE3.png](https://github.com/Hanxiaorong/IMG/raw/master/Jupyter%20%E5%BF%AB%E6%8D%B7%E9%94%AE2.png)"
   ]
  },
  {
   "cell_type": "code",
   "execution_count": null,
   "metadata": {
    "collapsed": true
   },
   "outputs": [],
   "source": [
    "*这是斜体字*\n",
    "\n",
    "**这是粗体字**\n",
    "\n",
    "* 这是加点\n",
    "\n",
    "*** 这是斜体加粗 ***"
   ]
  },
  {
   "cell_type": "code",
   "execution_count": null,
   "metadata": {
    "collapsed": true
   },
   "outputs": [],
   "source": [
    "换行用\n",
    "<br>换行  \n",
    "连续两个空格加回车也是换行\n",
    "\n",
    "&emsp;首行空格\n",
    "* 第一层级\n",
    "  - 第二层级\n",
    "  - 第三层级\n",
    "    * 第三层级\n",
    "    * 第三层级\n",
    "      * 第四层级\n",
    "      * 第四层级\n"
   ]
  }
 ],
 "metadata": {
  "kernelspec": {
   "display_name": "Python 3",
   "language": "python",
   "name": "python3"
  },
  "language_info": {
   "codemirror_mode": {
    "name": "ipython",
    "version": 3
   },
   "file_extension": ".py",
   "mimetype": "text/x-python",
   "name": "python",
   "nbconvert_exporter": "python",
   "pygments_lexer": "ipython3",
   "version": "3.6.2"
  }
 },
 "nbformat": 4,
 "nbformat_minor": 2
}
