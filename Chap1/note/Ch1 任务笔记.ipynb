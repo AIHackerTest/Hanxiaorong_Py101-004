{
 "cells": [
  {
   "cell_type": "markdown",
   "metadata": {},
   "source": [
    "# Ch1 天气查询说明\n",
    "\n",
    "## 任务要求\n",
    "\n",
    "- 输入中文城市名，返回该城市的天气数据\n",
    "- 输入指令 help，打印帮助文档\n",
    "- 输入指令 histroy，打印天气查询历史\n",
    "- 输入指令 quit ，退出程序的交互，并打印天气查询历史\n",
    "\n",
    "## 编程过程遇到的问题\n",
    "\n",
    "- Windows 系统下直接导入的天气文本文件会出现乱码\n",
    "> 解决方法：打开文件的时候添加encoding = ‘utf-8'  \n",
    "如 f = open ('/G/learnpython/Task/Ch1/weather_info.txt',encoding = 'utf-8')  \n",
    "打开文件也可以直接写文件名，如 f = open('test.txt',encoding = 'utf-8')  \n",
    "一般的打开文件是 <br> f = open() <br> f.read() <br> f.close()  \n",
    "现在一般用 with open() as f:,一定要有冒号\n",
    "\n",
    "- 查询的历史记录用列表的方式存储更好，这样多次查询同一个城市也能显示\n",
    "\n",
    "- break 只能在 for 、while 循环下使用，表示结束循环，在if……elif……else中使用会报错\n",
    "\n",
    "- if order == \"help\"or \"h\" 这样写不对，正确的是 if order == 'help' or ordre == 'h',当然也可以用for循环\n",
    "\n",
    "- split()是通过对指定的分割符对字符串进行切片，默认是空格、换行（\\n）、制表符（\\t）等。\n",
    "> f.split(',')表示的是对f文件中的逗号处进行分割，如果要确定分割的次数，可以写成 f.split(',',2)\n",
    "\n",
    "- strip()去掉字符串两端指定的字符（默认为空格）\n",
    "\n",
    "- for……in……相当于是遍历\n"
   ]
  },
  {
   "cell_type": "markdown",
   "metadata": {},
   "source": [
    "# 补充其他\n",
    "\n",
    "## list 和 tuple\n",
    "\n",
    "> list 的用法\n",
    "\n",
    "num = ['1','2','3','4','5']\n",
    "\n",
    "len(num)  \n",
    "num[0],列表中第一个数字  \n",
    "num[-1]，列表中最后一个数字  \n",
    "num.pop(-1),删除列表最后一个数字  \n",
    "num.append('6'),在列表中追加一个数字  \n",
    "num.insert(2,'7'), 在列表位置2处增加数字7  \n",
    "num.pop(i),删除列表位置i的数字  \n",
    "具体输出后面用[]，调用函数用()\n",
    "\n",
    "> tuple 的用法\n",
    "\n",
    "tuple 一旦初始化就不能修改，所以tuple不能调用append()/pop()/insert()函数\n",
    "\n",
    "** 删除list 用 pop() , 删除dict()用del**\n"
   ]
  }
 ],
 "metadata": {
  "kernelspec": {
   "display_name": "Python 3",
   "language": "python",
   "name": "python3"
  },
  "language_info": {
   "codemirror_mode": {
    "name": "ipython",
    "version": 3
   },
   "file_extension": ".py",
   "mimetype": "text/x-python",
   "name": "python",
   "nbconvert_exporter": "python",
   "pygments_lexer": "ipython3",
   "version": "3.6.2"
  }
 },
 "nbformat": 4,
 "nbformat_minor": 2
}
